{
 "cells": [
  {
   "cell_type": "code",
   "execution_count": 5,
   "id": "12d5c2f0-f03f-4d5c-8f16-7887437e5f3e",
   "metadata": {},
   "outputs": [
    {
     "name": "stdin",
     "output_type": "stream",
     "text": [
      "Enter number of cities:  4\n"
     ]
    },
    {
     "name": "stdout",
     "output_type": "stream",
     "text": [
      "Enter edges in the format: city1 city2 distance (type 'done' to finish):\n"
     ]
    },
    {
     "name": "stdin",
     "output_type": "stream",
     "text": [
      " 0 1 2\n",
      " 0 2 4\n",
      " 1 3 5\n",
      " 2 3 9\n",
      " done\n",
      "Enter starting city (0 to 3):  0\n"
     ]
    },
    {
     "name": "stdout",
     "output_type": "stream",
     "text": [
      "\n",
      "Optimal Tour: [0, 1, 3, 2, 0]\n",
      "Minimum Cost: 20\n"
     ]
    }
   ],
   "source": [
    "import heapq\n",
    "\n",
    "def mst_heuristic(unvisited, graph):\n",
    "    if not unvisited:\n",
    "        return 0\n",
    "    visited = set()\n",
    "    start = next(iter(unvisited))\n",
    "    heap = [(0, start)]\n",
    "    total_cost = 0\n",
    "    while heap and len(visited) < len(unvisited):\n",
    "        cost, node = heapq.heappop(heap)\n",
    "        if node in visited:\n",
    "            continue\n",
    "        visited.add(node)\n",
    "        total_cost += cost\n",
    "        for neighbor in unvisited:\n",
    "            if neighbor != node and neighbor not in visited:\n",
    "                heapq.heappush(heap, (graph[node][neighbor], neighbor))\n",
    "    return total_cost\n",
    "\n",
    "def a_star_tsp(graph, start, n):\n",
    "    all_nodes = set(range(n))\n",
    "    heap = []\n",
    "    initial_state = (0, start, [start], set([start]))\n",
    "    heapq.heappush(heap, (0, initial_state))\n",
    "\n",
    "    while heap:\n",
    "        f, (g, current, path, visited) = heapq.heappop(heap)\n",
    "        if len(visited) == n:\n",
    "            total_cost = g + graph[current][start]\n",
    "            return path + [start], total_cost\n",
    "\n",
    "        unvisited = all_nodes - visited\n",
    "        h = mst_heuristic(unvisited, graph) + (min(graph[current][v] for v in unvisited) if unvisited else 0)\n",
    "\n",
    "        for neighbor in unvisited:\n",
    "            new_g = g + graph[current][neighbor]\n",
    "            new_path = path + [neighbor]\n",
    "            new_visited = visited | {neighbor}\n",
    "            heapq.heappush(heap, (new_g + h, (new_g, neighbor, new_path, new_visited)))\n",
    "\n",
    "    return None, float('inf')\n",
    "\n",
    "if __name__ == \"__main__\":\n",
    "    n = int(input(\"Enter number of cities: \"))\n",
    "    graph = [[float('inf')] * n for _ in range(n)]\n",
    "\n",
    "    print(\"Enter edges in the format: city1 city2 distance (type 'done' to finish):\")\n",
    "    while True:\n",
    "        entry = input()\n",
    "        if entry.lower() == 'done':\n",
    "            break\n",
    "        try:\n",
    "            u, v, w = map(int, entry.strip().split())\n",
    "            graph[u][v] = w\n",
    "            graph[v][u] = w  # Symmetric for TSP\n",
    "        except:\n",
    "            print(\"Invalid input. Please enter in format: city1 city2 distance\")\n",
    "\n",
    "    start = int(input(f\"Enter starting city (0 to {n-1}): \"))\n",
    "    path, cost = a_star_tsp(graph, start, n)\n",
    "\n",
    "    print(\"\\nOptimal Tour:\", path)\n",
    "    print(\"Minimum Cost:\", cost)\n"
   ]
  },
  {
   "cell_type": "code",
   "execution_count": null,
   "id": "7986737a-11f4-4b0b-9289-1afe2519e64c",
   "metadata": {},
   "outputs": [],
   "source": []
  }
 ],
 "metadata": {
  "kernelspec": {
   "display_name": "Python 3 (ipykernel)",
   "language": "python",
   "name": "python3"
  },
  "language_info": {
   "codemirror_mode": {
    "name": "ipython",
    "version": 3
   },
   "file_extension": ".py",
   "mimetype": "text/x-python",
   "name": "python",
   "nbconvert_exporter": "python",
   "pygments_lexer": "ipython3",
   "version": "3.12.7"
  }
 },
 "nbformat": 4,
 "nbformat_minor": 5
}
