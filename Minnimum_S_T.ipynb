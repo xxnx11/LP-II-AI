{
 "cells": [
  {
   "cell_type": "code",
   "execution_count": 11,
   "id": "12d5c2f0-f03f-4d5c-8f16-7887437e5f3e",
   "metadata": {},
   "outputs": [
    {
     "name": "stdin",
     "output_type": "stream",
     "text": [
      "Enter number of nodes:  4\n"
     ]
    },
    {
     "name": "stdout",
     "output_type": "stream",
     "text": [
      "Enter neighbors and weights for node 0 (e.g., [(1, 2), (3, 6)]):\n"
     ]
    },
    {
     "name": "stdin",
     "output_type": "stream",
     "text": [
      " [(1,2),(2,4)]\n"
     ]
    },
    {
     "name": "stdout",
     "output_type": "stream",
     "text": [
      "Enter neighbors and weights for node 1 (e.g., [(1, 2), (3, 6)]):\n"
     ]
    },
    {
     "name": "stdin",
     "output_type": "stream",
     "text": [
      " [(0,2),(3,5)]\n"
     ]
    },
    {
     "name": "stdout",
     "output_type": "stream",
     "text": [
      "Enter neighbors and weights for node 2 (e.g., [(1, 2), (3, 6)]):\n"
     ]
    },
    {
     "name": "stdin",
     "output_type": "stream",
     "text": [
      " [(0,4),(3,9)]\n"
     ]
    },
    {
     "name": "stdout",
     "output_type": "stream",
     "text": [
      "Enter neighbors and weights for node 3 (e.g., [(1, 2), (3, 6)]):\n"
     ]
    },
    {
     "name": "stdin",
     "output_type": "stream",
     "text": [
      " [(1,5),(2,9)]\n",
      "Enter starting node:  0\n"
     ]
    },
    {
     "name": "stdout",
     "output_type": "stream",
     "text": [
      "Starting Prim's Algorithm from node 0...\n",
      "\n",
      "Starting at node 0.\n",
      "Adding edge (0 -> 1) with weight 2 to the MST.\n",
      "Adding edge (0 -> 2) with weight 4 to the MST.\n",
      "Adding edge (1 -> 3) with weight 5 to the MST.\n",
      "\n",
      "Prim's Algorithm completed.\n",
      "Total weight of MST: 11\n",
      "MST edges: [(0, 1, 2), (0, 2, 4), (1, 3, 5)]\n"
     ]
    },
    {
     "data": {
      "image/png": "[encoded data removed]",
      "text/plain": [
       "<Figure size 500x500 with 1 Axes>"
      ]
     },
     "metadata": {},
     "output_type": "display_data"
    },
    {
     "name": "stdout",
     "output_type": "stream",
     "text": [
      "\n",
      "Minimum Spanning Tree: [(0, 1, 2), (0, 2, 4), (1, 3, 5)]\n",
      "Total weight: 11\n"
     ]
    }
   ],
   "source": [
    "import heapq\n",
    "import matplotlib.pyplot as plt\n",
    "import networkx as nx\n",
    "\n",
    "def prim_mst(graph, start):\n",
    "    mst = []\n",
    "    visited = [False] * len(graph)\n",
    "    min_heap = [(0, start, -1)]  # (weight, current_node, parent)\n",
    "    total_weight = 0\n",
    "\n",
    "    G = nx.Graph()\n",
    "\n",
    "    print(f\"Starting Prim's Algorithm from node {start}...\\n\")\n",
    "\n",
    "    while min_heap:\n",
    "        weight, node, parent = heapq.heappop(min_heap)\n",
    "\n",
    "        if visited[node]:\n",
    "            continue\n",
    "\n",
    "        visited[node] = True\n",
    "        total_weight += weight\n",
    "\n",
    "        if parent != -1:\n",
    "            mst.append((parent, node, weight))\n",
    "            print(f\"Adding edge ({parent} -> {node}) with weight {weight} to the MST.\")\n",
    "            G.add_edge(parent, node, weight=weight)\n",
    "        else:\n",
    "            print(f\"Starting at node {node}.\")\n",
    "\n",
    "        for neighbor, w in graph[node]:\n",
    "            if not visited[neighbor]:\n",
    "                heapq.heappush(min_heap, (w, neighbor, node))\n",
    "\n",
    "    print(\"\\nPrim's Algorithm completed.\")\n",
    "    print(\"Total weight of MST:\", total_weight)\n",
    "    print(\"MST edges:\", mst)\n",
    "\n",
    "    # Plot the final Minimum Spanning Tree\n",
    "    pos = nx.spring_layout(G)\n",
    "    plt.figure(figsize=(5, 5))\n",
    "    nx.draw(G, pos, with_labels=True, node_size=700, node_color=\"lightblue\", font_size=12)\n",
    "    labels = nx.get_edge_attributes(G, 'weight')\n",
    "    nx.draw_networkx_edge_labels(G, pos, edge_labels=labels)\n",
    "    plt.title(\"Final Minimum Spanning Tree (Prim's Algorithm)\")\n",
    "    plt.show()\n",
    "\n",
    "    return mst, total_weight\n",
    "\n",
    "if __name__ == \"__main__\":\n",
    "    graph = {}\n",
    "    n = int(input(\"Enter number of nodes: \"))\n",
    "    for i in range(n):\n",
    "        print(f\"Enter neighbors and weights for node {i} (e.g., [(1, 2), (3, 6)]):\")\n",
    "        neighbors = eval(input())\n",
    "        graph[i] = neighbors\n",
    "    start = int(input(\"Enter starting node: \"))\n",
    "    mst, total_weight = prim_mst(graph, start)\n",
    "    print(\"\\nMinimum Spanning Tree:\", mst)\n",
    "    print(\"Total weight:\", total_weight)\n"
   ]
  },
  {
   "cell_type": "code",
   "execution_count": null,
   "id": "7986737a-11f4-4b0b-9289-1afe2519e64c",
   "metadata": {},
   "outputs": [],
   "source": []
  }
 ],
 "metadata": {
  "kernelspec": {
   "display_name": "Python [conda env:base] *",
   "language": "python",
   "name": "conda-base-py"
  },
  "language_info": {
   "codemirror_mode": {
    "name": "ipython",
    "version": 3
   },
   "file_extension": ".py",
   "mimetype": "text/x-python",
   "name": "python",
   "nbconvert_exporter": "python",
   "pygments_lexer": "ipython3",
   "version": "3.12.7"
  }
 },
 "nbformat": 4,
 "nbformat_minor": 5
}
