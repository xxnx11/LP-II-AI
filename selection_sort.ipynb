{
 "cells": [
  {
   "cell_type": "code",
   "execution_count": 2,
   "id": "12d5c2f0-f03f-4d5c-8f16-7887437e5f3e",
   "metadata": {},
   "outputs": [
    {
     "name": "stdin",
     "output_type": "stream",
     "text": [
      "Enter the array to sort (space separated):  3 2 6 1 5 4\n"
     ]
    },
    {
     "name": "stdout",
     "output_type": "stream",
     "text": [
      "Starting Selection Sort...\n",
      "Step 1: Searching for the minimum element from index 0 to 5\n",
      "Step 1: Swapping elements at index 0 and 3. Array now: [1, 2, 6, 3, 5, 4]\n",
      "Step 2: Searching for the minimum element from index 1 to 5\n",
      "Step 2: Swapping elements at index 1 and 1. Array now: [1, 2, 6, 3, 5, 4]\n",
      "Step 3: Searching for the minimum element from index 2 to 5\n",
      "Step 3: Swapping elements at index 2 and 3. Array now: [1, 2, 3, 6, 5, 4]\n",
      "Step 4: Searching for the minimum element from index 3 to 5\n",
      "Step 4: Swapping elements at index 3 and 5. Array now: [1, 2, 3, 4, 5, 6]\n",
      "Step 5: Searching for the minimum element from index 4 to 5\n",
      "Step 5: Swapping elements at index 4 and 4. Array now: [1, 2, 3, 4, 5, 6]\n",
      "Step 6: Searching for the minimum element from index 5 to 5\n",
      "Step 6: Swapping elements at index 5 and 5. Array now: [1, 2, 3, 4, 5, 6]\n",
      "Selection Sort completed.\n"
     ]
    },
    {
     "data": {
      "image/png": "[encoded data removed]",
      "text/plain": [
       "<Figure size 640x480 with 1 Axes>"
      ]
     },
     "metadata": {},
     "output_type": "display_data"
    },
    {
     "name": "stdout",
     "output_type": "stream",
     "text": [
      "Sorted array: [1, 2, 3, 4, 5, 6]\n"
     ]
    }
   ],
   "source": [
    "import matplotlib.pyplot as plt\n",
    "\n",
    "def selection_sort(arr):\n",
    "    n = len(arr)\n",
    "    print(\"Starting Selection Sort...\")\n",
    "\n",
    "    for i in range(n):\n",
    "        min_idx = i\n",
    "        print(f\"Step {i + 1}: Searching for the minimum element from index {i} to {n - 1}\")\n",
    "        for j in range(i + 1, n):\n",
    "            if arr[j] < arr[min_idx]:\n",
    "                min_idx = j\n",
    "        arr[i], arr[min_idx] = arr[min_idx], arr[i]\n",
    "        print(f\"Step {i + 1}: Swapping elements at index {i} and {min_idx}. Array now: {arr}\")\n",
    "\n",
    "    print(\"Selection Sort completed.\")\n",
    "\n",
    "    fig, ax = plt.subplots()\n",
    "    ax.bar(range(n), arr, color=\"blue\")\n",
    "    plt.title(\"Selection Sort Final Result\")\n",
    "    plt.show()\n",
    "\n",
    "    return arr\n",
    "\n",
    "if __name__ == \"__main__\":\n",
    "    arr = list(map(int, input(\"Enter the array to sort (space separated): \").split()))\n",
    "    sorted_arr = selection_sort(arr)\n",
    "    print(\"Sorted array:\", sorted_arr)\n"
   ]
  },
  {
   "cell_type": "code",
   "execution_count": null,
   "id": "7986737a-11f4-4b0b-9289-1afe2519e64c",
   "metadata": {},
   "outputs": [],
   "source": []
  }
 ],
 "metadata": {
  "kernelspec": {
   "display_name": "Python [conda env:base] *",
   "language": "python",
   "name": "conda-base-py"
  },
  "language_info": {
   "codemirror_mode": {
    "name": "ipython",
    "version": 3
   },
   "file_extension": ".py",
   "mimetype": "text/x-python",
   "name": "python",
   "nbconvert_exporter": "python",
   "pygments_lexer": "ipython3",
   "version": "3.12.7"
  }
 },
 "nbformat": 4,
 "nbformat_minor": 5
}
