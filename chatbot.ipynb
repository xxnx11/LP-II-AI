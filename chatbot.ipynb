{
 "cells": [
  {
   "cell_type": "code",
   "execution_count": null,
   "id": "12d5c2f0-f03f-4d5c-8f16-7887437e5f3e",
   "metadata": {},
   "outputs": [
    {
     "name": "stdout",
     "output_type": "stream",
     "text": [
      "Bot: Hello! I'm ChatBot. Type something to start chatting. Type 'bye' to exit.\n"
     ]
    },
    {
     "name": "stdin",
     "output_type": "stream",
     "text": [
      "You:  hii\n"
     ]
    },
    {
     "name": "stdout",
     "output_type": "stream",
     "text": [
      "Bot: Hello!\n"
     ]
    },
    {
     "name": "stdin",
     "output_type": "stream",
     "text": [
      "You:  who are you ?\n"
     ]
    },
    {
     "name": "stdout",
     "output_type": "stream",
     "text": [
      "Bot: Sorry, I didn't quite understand that. Can you try asking something else?\n"
     ]
    }
   ],
   "source": [
    "import random\n",
    "\n",
    "def get_bot_response(user_msg):\n",
    "    user_msg = user_msg.lower()\n",
    "\n",
    "    # Greetings and farewells\n",
    "    greetings = ['hi', 'hello', 'hey']\n",
    "    farewells = ['bye', 'goodbye', 'see you']\n",
    "\n",
    "    # Common questions\n",
    "    questions = ['how are you', 'what is your name', 'what can you do']\n",
    "\n",
    "    # Responses to different situations\n",
    "    if any(greet in user_msg for greet in greetings):\n",
    "        return random.choice([\"Hello!\", \"Hey there!\", \"Hi! How can I assist you?\"])\n",
    "    \n",
    "    elif 'how are you' in user_msg:\n",
    "        return \"I'm doing well, thank you for asking! How are you?\"\n",
    "\n",
    "    elif 'your name' in user_msg:\n",
    "        return \"I'm ChatBot, here to assist you.\"\n",
    "\n",
    "    elif 'what can you do' in user_msg:\n",
    "        return \"I can assist with basic conversations. Feel free to ask me anything!\"\n",
    "\n",
    "    elif any(bye in user_msg for bye in farewells):\n",
    "        return random.choice([\"Goodbye!\", \"See you later!\", \"Take care!\"])\n",
    "\n",
    "    elif 'thank you' in user_msg or 'thanks' in user_msg:\n",
    "        return \"You're welcome! Let me know if you need anything else.\"\n",
    "\n",
    "    elif 'how old are you' in user_msg:\n",
    "        return \"I don't have an age, as I'm just a bot!\"\n",
    "\n",
    "    elif 'where are you from' in user_msg:\n",
    "        return \"I'm from the cloud! I exist in the digital world.\"\n",
    "        \n",
    "    elif 'what do you like' in user_msg:\n",
    "        return \"i love talking to you.\"\n",
    "\n",
    "    elif 'what do you like' in user_msg:\n",
    "        return \"I don't have preferences, but I enjoy helping you with questions!\"\n",
    "\n",
    "    else:\n",
    "        return \"Sorry, I didn't quite understand that. Can you try asking something else?\"\n",
    "\n",
    "def main():\n",
    "    print(\"Bot: Hello! I'm ChatBot. Type something to start chatting. Type 'bye' to exit.\")\n",
    "\n",
    "    while True:\n",
    "        user_input = input(\"You: \").strip()\n",
    "        if user_input.lower() in ['bye', 'exit', 'quit']:\n",
    "            print(\"Bot: Goodbye! Have a nice day.\")\n",
    "            break\n",
    "\n",
    "        bot_reply = get_bot_response(user_input)\n",
    "        print(\"Bot:\", bot_reply)\n",
    "\n",
    "if __name__ == \"__main__\":\n",
    "    main()"
   ]
  },
  {
   "cell_type": "code",
   "execution_count": null,
   "id": "7986737a-11f4-4b0b-9289-1afe2519e64c",
   "metadata": {},
   "outputs": [],
   "source": []
  }
 ],
 "metadata": {
  "kernelspec": {
   "display_name": "Python [conda env:base] *",
   "language": "python",
   "name": "conda-base-py"
  },
  "language_info": {
   "codemirror_mode": {
    "name": "ipython",
    "version": 3
   },
   "file_extension": ".py",
   "mimetype": "text/x-python",
   "name": "python",
   "nbconvert_exporter": "python",
   "pygments_lexer": "ipython3",
   "version": "3.12.7"
  }
 },
 "nbformat": 4,
 "nbformat_minor": 5
}
