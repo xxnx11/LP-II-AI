{
 "cells": [
  {
   "cell_type": "code",
   "execution_count": 1,
   "id": "12d5c2f0-f03f-4d5c-8f16-7887437e5f3e",
   "metadata": {},
   "outputs": [
    {
     "name": "stdin",
     "output_type": "stream",
     "text": [
      "Enter the number of nodes:  4\n",
      "Enter node name:  1 3\n",
      "Enter node name:  3 2\n",
      "Enter node name:  4 2 \n",
      "Enter node name:  4 5\n",
      "Enter the number of edges:  4\n",
      "Enter edge (node1 node2):  1 3\n"
     ]
    },
    {
     "ename": "KeyError",
     "evalue": "'1'",
     "output_type": "error",
     "traceback": [
      "\u001b[1;31m---------------------------------------------------------------------------\u001b[0m",
      "\u001b[1;31mKeyError\u001b[0m                                  Traceback (most recent call last)",
      "Cell \u001b[1;32mIn[1], line 75\u001b[0m\n\u001b[0;32m     72\u001b[0m     bfs(graph, start_node)\n\u001b[0;32m     74\u001b[0m \u001b[38;5;28;01mif\u001b[39;00m \u001b[38;5;18m__name__\u001b[39m \u001b[38;5;241m==\u001b[39m \u001b[38;5;124m\"\u001b[39m\u001b[38;5;124m__main__\u001b[39m\u001b[38;5;124m\"\u001b[39m:\n\u001b[1;32m---> 75\u001b[0m     main()\n",
      "Cell \u001b[1;32mIn[1], line 65\u001b[0m, in \u001b[0;36mmain\u001b[1;34m()\u001b[0m\n\u001b[0;32m     63\u001b[0m \u001b[38;5;28;01mfor\u001b[39;00m _ \u001b[38;5;129;01min\u001b[39;00m \u001b[38;5;28mrange\u001b[39m(edges):\n\u001b[0;32m     64\u001b[0m     node1, node2 \u001b[38;5;241m=\u001b[39m \u001b[38;5;28minput\u001b[39m(\u001b[38;5;124m\"\u001b[39m\u001b[38;5;124mEnter edge (node1 node2): \u001b[39m\u001b[38;5;124m\"\u001b[39m)\u001b[38;5;241m.\u001b[39msplit()\n\u001b[1;32m---> 65\u001b[0m     graph[node1]\u001b[38;5;241m.\u001b[39mappend(node2)\n\u001b[0;32m     66\u001b[0m     graph[node2]\u001b[38;5;241m.\u001b[39mappend(node1)  \u001b[38;5;66;03m# Undirected graph\u001b[39;00m\n\u001b[0;32m     68\u001b[0m start_node \u001b[38;5;241m=\u001b[39m \u001b[38;5;28minput\u001b[39m(\u001b[38;5;124m\"\u001b[39m\u001b[38;5;124mEnter the start node: \u001b[39m\u001b[38;5;124m\"\u001b[39m)\n",
      "\u001b[1;31mKeyError\u001b[0m: '1'"
     ]
    }
   ],
   "source": [
    "from collections import deque\n",
    "\n",
    "def dfs(graph, start):\n",
    "    visited = set()\n",
    "    stack = [start]\n",
    "    dfs_result = []\n",
    "\n",
    "    print(\"\\n--- DFS Traversal ---\")\n",
    "    print(f\"Stack: {stack}\")\n",
    "\n",
    "    while stack:\n",
    "        vertex = stack.pop()\n",
    "        if vertex not in visited:\n",
    "            visited.add(vertex)\n",
    "            dfs_result.append(vertex)\n",
    "            print(f\"Visiting: {vertex}\")\n",
    "            \n",
    "            # Push neighbors in reverse to maintain order\n",
    "            for neighbor in reversed(graph[vertex]):\n",
    "                if neighbor not in visited:\n",
    "                    stack.append(neighbor)\n",
    "            print(f\"Stack: {stack}\")\n",
    "    \n",
    "    print(f\"DFS: {dfs_result}\")\n",
    "    return dfs_result\n",
    "\n",
    "def bfs(graph, start):\n",
    "    visited = set()\n",
    "    queue = deque([start])\n",
    "    visited.add(start)\n",
    "    bfs_result = []\n",
    "\n",
    "    print(\"\\n--- BFS Traversal ---\")\n",
    "    print(f\"Queue: {list(queue)}\")\n",
    "\n",
    "    while queue:\n",
    "        vertex = queue.popleft()\n",
    "        bfs_result.append(vertex)\n",
    "        print(f\"Visiting: {vertex}\")\n",
    "\n",
    "        for neighbor in graph[vertex]:\n",
    "            if neighbor not in visited:\n",
    "                visited.add(neighbor)\n",
    "                queue.append(neighbor)\n",
    "                print(f\"Adding {neighbor} to the queue\")\n",
    "        \n",
    "        print(f\"Queue: {list(queue)}\")\n",
    "\n",
    "    print(f\"BFS: {bfs_result}\")\n",
    "    return bfs_result\n",
    "\n",
    "def main():\n",
    "    # Take user input for graph structure\n",
    "    graph = {}\n",
    "    n = int(input(\"Enter the number of nodes: \"))\n",
    "    \n",
    "    for _ in range(n):\n",
    "        node = input(\"Enter node name: \")\n",
    "        graph[node] = []\n",
    "    \n",
    "    edges = int(input(\"Enter the number of edges: \"))\n",
    "    \n",
    "    for _ in range(edges):\n",
    "        node1, node2 = input(\"Enter edge (node1 node2): \").split()\n",
    "        graph[node1].append(node2)\n",
    "        graph[node2].append(node1)  # Undirected graph\n",
    "    \n",
    "    start_node = input(\"Enter the start node: \")\n",
    "\n",
    "    # DFS and BFS Traversals\n",
    "    dfs(graph, start_node)\n",
    "    bfs(graph, start_node)\n",
    "\n",
    "if __name__ == \"__main__\":\n",
    "    main()"
   ]
  },
  {
   "cell_type": "code",
   "execution_count": null,
   "id": "7986737a-11f4-4b0b-9289-1afe2519e64c",
   "metadata": {},
   "outputs": [],
   "source": []
  }
 ],
 "metadata": {
  "kernelspec": {
   "display_name": "Python [conda env:base] *",
   "language": "python",
   "name": "conda-base-py"
  },
  "language_info": {
   "codemirror_mode": {
    "name": "ipython",
    "version": 3
   },
   "file_extension": ".py",
   "mimetype": "text/x-python",
   "name": "python",
   "nbconvert_exporter": "python",
   "pygments_lexer": "ipython3",
   "version": "3.12.7"
  }
 },
 "nbformat": 4,
 "nbformat_minor": 5
}
