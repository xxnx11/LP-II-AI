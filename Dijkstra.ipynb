{
 "cells": [
  {
   "cell_type": "code",
   "execution_count": 3,
   "id": "12d5c2f0-f03f-4d5c-8f16-7887437e5f3e",
   "metadata": {},
   "outputs": [
    {
     "name": "stdin",
     "output_type": "stream",
     "text": [
      "Enter number of nodes:  4\n"
     ]
    },
    {
     "name": "stdout",
     "output_type": "stream",
     "text": [
      "Enter neighbors and weights for node 0 (e.g., [(1, 4), (2, 1)]):\n"
     ]
    },
    {
     "name": "stdin",
     "output_type": "stream",
     "text": [
      " [(1,2),(2,4)]\n"
     ]
    },
    {
     "name": "stdout",
     "output_type": "stream",
     "text": [
      "Enter neighbors and weights for node 1 (e.g., [(1, 4), (2, 1)]):\n"
     ]
    },
    {
     "name": "stdin",
     "output_type": "stream",
     "text": [
      " [(0,2),(3,5)]\n"
     ]
    },
    {
     "name": "stdout",
     "output_type": "stream",
     "text": [
      "Enter neighbors and weights for node 2 (e.g., [(1, 4), (2, 1)]):\n"
     ]
    },
    {
     "name": "stdin",
     "output_type": "stream",
     "text": [
      " [(0,4),(3,9)]\n"
     ]
    },
    {
     "name": "stdout",
     "output_type": "stream",
     "text": [
      "Enter neighbors and weights for node 3 (e.g., [(1, 4), (2, 1)]):\n"
     ]
    },
    {
     "name": "stdin",
     "output_type": "stream",
     "text": [
      " [(1,5),(2,9)]\n",
      "Enter starting node:  0\n"
     ]
    },
    {
     "name": "stdout",
     "output_type": "stream",
     "text": [
      "Starting Dijkstra's Algorithm from node 0...\n",
      "Visiting node 0 with current distance 0.\n",
      "Updating distance for node 1 to 2.\n",
      "Updating distance for node 2 to 4.\n",
      "Visiting node 1 with current distance 2.\n",
      "Updating distance for node 3 to 7.\n",
      "Visiting node 2 with current distance 4.\n",
      "Visiting node 3 with current distance 7.\n",
      "Dijkstra's Algorithm completed.\n"
     ]
    },
    {
     "data": {
      "image/png": "[encoded data removed]",
      "text/plain": [
       "<Figure size 500x500 with 1 Axes>"
      ]
     },
     "metadata": {},
     "output_type": "display_data"
    },
    {
     "name": "stdout",
     "output_type": "stream",
     "text": [
      "Shortest distances from node 0 : [0, 2, 4, 7]\n"
     ]
    }
   ],
   "source": [
    "import heapq\n",
    "import matplotlib.pyplot as plt\n",
    "import networkx as nx\n",
    "\n",
    "def dijkstra(graph, start):\n",
    "    n = len(graph)\n",
    "    dist = [float('inf')] * n\n",
    "    dist[start] = 0\n",
    "    min_heap = [(0, start)]\n",
    "\n",
    "    print(f\"Starting Dijkstra's Algorithm from node {start}...\")\n",
    "\n",
    "    G = nx.Graph()\n",
    "\n",
    "    while min_heap:\n",
    "        d, node = heapq.heappop(min_heap)\n",
    "\n",
    "        if d > dist[node]:\n",
    "            continue\n",
    "\n",
    "        print(f\"Visiting node {node} with current distance {d}.\")\n",
    "        for neighbor, weight in graph[node]:\n",
    "            alt = dist[node] + weight\n",
    "            if alt < dist[neighbor]:\n",
    "                dist[neighbor] = alt\n",
    "                heapq.heappush(min_heap, (alt, neighbor))\n",
    "                print(f\"Updating distance for node {neighbor} to {alt}.\")\n",
    "                G.add_edge(node, neighbor, weight=weight)\n",
    "\n",
    "    print(\"Dijkstra's Algorithm completed.\")\n",
    "\n",
    "    pos = nx.spring_layout(G)\n",
    "    plt.figure(figsize=(5, 5))\n",
    "    nx.draw(G, pos, with_labels=True, node_size=700, node_color=\"lightblue\", font_size=12)\n",
    "    labels = nx.get_edge_attributes(G, 'weight')\n",
    "    nx.draw_networkx_edge_labels(G, pos, edge_labels=labels)\n",
    "    plt.title(\"Final Shortest Path (Dijkstra's Algorithm)\")\n",
    "    plt.show()\n",
    "\n",
    "    return dist\n",
    "\n",
    "if __name__ == \"__main__\":\n",
    "    graph = {}\n",
    "    n = int(input(\"Enter number of nodes: \"))\n",
    "    for i in range(n):\n",
    "        print(f\"Enter neighbors and weights for node {i} (e.g., [(1, 4), (2, 1)]):\")\n",
    "        neighbors = eval(input())\n",
    "        graph[i] = neighbors\n",
    "    start = int(input(\"Enter starting node: \"))\n",
    "    dist = dijkstra(graph, start)\n",
    "    print(\"Shortest distances from node\", start, \":\", dist)\n"
   ]
  },
  {
   "cell_type": "code",
   "execution_count": null,
   "id": "7986737a-11f4-4b0b-9289-1afe2519e64c",
   "metadata": {},
   "outputs": [],
   "source": []
  }
 ],
 "metadata": {
  "kernelspec": {
   "display_name": "Python [conda env:base] *",
   "language": "python",
   "name": "conda-base-py"
  },
  "language_info": {
   "codemirror_mode": {
    "name": "ipython",
    "version": 3
   },
   "file_extension": ".py",
   "mimetype": "text/x-python",
   "name": "python",
   "nbconvert_exporter": "python",
   "pygments_lexer": "ipython3",
   "version": "3.12.7"
  }
 },
 "nbformat": 4,
 "nbformat_minor": 5
}
