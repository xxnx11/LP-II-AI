{
 "cells": [
  {
   "cell_type": "code",
   "execution_count": 6,
   "id": "12d5c2f0-f03f-4d5c-8f16-7887437e5f3e",
   "metadata": {},
   "outputs": [
    {
     "name": "stdin",
     "output_type": "stream",
     "text": [
      "Enter number of jobs:  5\n",
      "Enter job ID for job 1:  A\n",
      "Enter deadline for job 1:  2\n",
      "Enter profit for job 1:  100\n",
      "Enter job ID for job 2:  B\n",
      "Enter deadline for job 2:  1\n",
      "Enter profit for job 2:  50\n",
      "Enter job ID for job 3:  C\n",
      "Enter deadline for job 3:  2\n",
      "Enter profit for job 3:  10\n",
      "Enter job ID for job 4:  D\n",
      "Enter deadline for job 4:  1\n",
      "Enter profit for job 4:  20\n",
      "Enter job ID for job 5:  E\n",
      "Enter deadline for job 5:  3\n",
      "Enter profit for job 5:  30\n"
     ]
    },
    {
     "name": "stdout",
     "output_type": "stream",
     "text": [
      "Job scheduling based on highest profit first...\n",
      "Considering job ('A', 2, 100) with profit 100.\n",
      "Job ('A', 2, 100) is scheduled in slot 1.\n",
      "Considering job ('B', 1, 50) with profit 50.\n",
      "Job ('B', 1, 50) is scheduled in slot 0.\n",
      "Considering job ('E', 3, 30) with profit 30.\n",
      "Job ('E', 3, 30) is scheduled in slot 2.\n",
      "Considering job ('D', 1, 20) with profit 20.\n",
      "Job ('D', 1, 20) could not be scheduled due to full slots.\n",
      "Considering job ('C', 2, 10) with profit 10.\n",
      "Job ('C', 2, 10) could not be scheduled due to full slots.\n",
      "Job Scheduling completed.\n"
     ]
    },
    {
     "data": {
      "image/png": "[encoded data removed]",
      "text/plain": [
       "<Figure size 640x480 with 1 Axes>"
      ]
     },
     "metadata": {},
     "output_type": "display_data"
    },
    {
     "name": "stdout",
     "output_type": "stream",
     "text": [
      "Scheduled Jobs:\n",
      "('B', 1, 50)\n",
      "('A', 2, 100)\n",
      "('E', 3, 30)\n",
      "No job scheduled\n",
      "No job scheduled\n"
     ]
    }
   ],
   "source": [
    "import matplotlib.pyplot as plt\n",
    "\n",
    "def job_scheduling(jobs):\n",
    "    jobs.sort(key=lambda x: x[2], reverse=True)\n",
    "    print(\"Job scheduling based on highest profit first...\")\n",
    "\n",
    "    n = len(jobs)\n",
    "    slots = [-1] * n\n",
    "    result = [None] * n\n",
    "\n",
    "    for i in range(n):\n",
    "        print(f\"Considering job {jobs[i]} with profit {jobs[i][2]}.\")\n",
    "        for j in range(min(n, jobs[i][1]) - 1, -1, -1):\n",
    "            if slots[j] == -1:\n",
    "                slots[j] = i\n",
    "                result[j] = jobs[i]\n",
    "                print(f\"Job {jobs[i]} is scheduled in slot {j}.\")\n",
    "                break\n",
    "        else:\n",
    "            print(f\"Job {jobs[i]} could not be scheduled due to full slots.\")\n",
    "\n",
    "    print(\"Job Scheduling completed.\")\n",
    "\n",
    "    scheduled_jobs = [result[j] if result[j] else None for j in range(n)]\n",
    "    fig, ax = plt.subplots()\n",
    "    ax.bar(range(n), [job[2] if job else 0 for job in scheduled_jobs], color=\"green\")\n",
    "    plt.title(\"Final Job Scheduling Result\")\n",
    "    plt.show()\n",
    "\n",
    "    return result\n",
    "\n",
    "if __name__ == \"__main__\":\n",
    "    n = int(input(\"Enter number of jobs: \"))\n",
    "    jobs = []\n",
    "    for i in range(n):\n",
    "        job_id = input(f\"Enter job ID for job {i + 1}: \")\n",
    "        deadline = int(input(f\"Enter deadline for job {i + 1}: \"))\n",
    "        profit = int(input(f\"Enter profit for job {i + 1}: \"))\n",
    "        jobs.append((job_id, deadline, profit))\n",
    "    scheduled_jobs = job_scheduling(jobs)\n",
    "    print(\"Scheduled Jobs:\")\n",
    "    for job in scheduled_jobs:\n",
    "        print(job if job else \"No job scheduled\")\n"
   ]
  },
  {
   "cell_type": "code",
   "execution_count": null,
   "id": "7986737a-11f4-4b0b-9289-1afe2519e64c",
   "metadata": {},
   "outputs": [],
   "source": []
  }
 ],
 "metadata": {
  "kernelspec": {
   "display_name": "Python [conda env:base] *",
   "language": "python",
   "name": "conda-base-py"
  },
  "language_info": {
   "codemirror_mode": {
    "name": "ipython",
    "version": 3
   },
   "file_extension": ".py",
   "mimetype": "text/x-python",
   "name": "python",
   "nbconvert_exporter": "python",
   "pygments_lexer": "ipython3",
   "version": "3.12.7"
  }
 },
 "nbformat": 4,
 "nbformat_minor": 5
}
